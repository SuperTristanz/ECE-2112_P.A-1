{
 "cells": [
  {
   "cell_type": "markdown",
   "id": "c76e8f9e-7b72-4348-8084-dc4ca2dba018",
   "metadata": {},
   "source": [
    " ### Practice Assessment 1\n",
    " "
   ]
  },
  {
   "cell_type": "markdown",
   "id": "bfd35eb8-b77e-4a1f-b742-506604c9c6c5",
   "metadata": {},
   "source": [
    "###### 1.ALPHABET SOUP PROBLEM: Create a function that takes a string and returns a string with its letters \n",
    "in alphabetical order."
   ]
  },
  {
   "cell_type": "code",
   "execution_count": 1,
   "id": "1e99d122-31fb-48b2-993b-8dda903bb487",
   "metadata": {},
   "outputs": [
    {
     "name": "stdout",
     "output_type": "stream",
     "text": [
      "e g h l l o s u y\n"
     ]
    }
   ],
   "source": [
    "#Making of the Function\n",
    "\n",
    "def alpha_soup(words):\n",
    "    \n",
    "    #making the text proper and readable by the code when capitalized or having spaces between\n",
    "    words = words.replace(\" \",\"\").lower()\n",
    "    #Determining if the text is aplhabet\n",
    "    if words.isalpha():\n",
    "        #if it is true we join the text so that it is not in a list form\n",
    "       new = print(\" \".join(sorted(words)))\n",
    "        # returning the value of the function\n",
    "       return  new\n",
    "    else:\n",
    "        #returning the value if the text is not alphabet\n",
    "        return print(\"All must be Alphabet\")\n",
    "            \n",
    "words = \"Hello guys\"\n",
    "#calling the function\n",
    "alpha_soup(words)"
   ]
  },
  {
   "cell_type": "markdown",
   "id": "c4db9636-6c39-4a09-b02d-1c1e6322c006",
   "metadata": {},
   "source": [
    "###### 2.EMOTICON PROBLEM: Create a function that changes specific words into emoticons. Given a sentence \n",
    "as a string, replace the words smile, grin, sad and mad with their corresponding emoticon:"
   ]
  },
  {
   "cell_type": "markdown",
   "id": "c24e6259-70b6-4f05-9039-97ffe1127e5b",
   "metadata": {},
   "source": [
    "##### Example"
   ]
  },
  {
   "cell_type": "markdown",
   "id": "238812d7-e505-46f8-a188-4b94a134ce20",
   "metadata": {},
   "source": [
    "###### emotify(“Make me smile”) ➞ Make me :)"
   ]
  },
  {
   "cell_type": "markdown",
   "id": "94cf1dfd-5d39-4ac5-a5bb-a284da71bacd",
   "metadata": {},
   "source": [
    "###### emotify(“I am mad”) ➞ I am >:("
   ]
  },
  {
   "cell_type": "code",
   "execution_count": 24,
   "id": "0b6770ec-4e9a-46bc-bef6-6bf267d1f65f",
   "metadata": {},
   "outputs": [
    {
     "data": {
      "text/plain": [
       "\"i'll be :(( if i fail programming \""
      ]
     },
     "execution_count": 24,
     "metadata": {},
     "output_type": "execute_result"
    }
   ],
   "source": [
    "#making a Function for emoticons\n",
    "def emoticon(words):\n",
    "    #making a library for emoticons\n",
    "    emote    = { \"smile\" : \":)\",\n",
    "                 \"grin\"  : \":D\",\n",
    "                 \"sad\"   : \":((\",\n",
    "                 \"mad\"   : \">:(\" ,\n",
    "    #making sure that all of the words are checked                              }\n",
    "    words = words.lower().split()\n",
    "    \n",
    "    new = \"\"\n",
    "    #iterating each components on the sets and checking if there is a word that corresponds to the library\n",
    "    for i in words:\n",
    "        if i in emote:\n",
    "            new +=emote[i] + \" \"\n",
    "        else:\n",
    "            new += i + \" \"\n",
    "    #returning the text\n",
    "    return new\n",
    "#testing the text\n",
    "words = \"i'll be Sad if i fail Programming\"\n",
    "#calling the function\n",
    "emoticon(words)"
   ]
  },
  {
   "cell_type": "markdown",
   "id": "c7f518c1-2b2e-4649-9aaa-999711925890",
   "metadata": {},
   "source": [
    "##### UNPACKING LIST PROBLEM: Unpack the list writeyourcodehere into three variables, being first, middle, and last, with middle being everything in between the first and last element then print all three elements"
   ]
  },
  {
   "cell_type": "code",
   "execution_count": 30,
   "id": "a72f5ce5-a9a2-4154-b8d4-c1158a42ef01",
   "metadata": {},
   "outputs": [
    {
     "name": "stdout",
     "output_type": "stream",
     "text": [
      "First:  1 \n",
      "Middle:  [2, 3, 4, 5] \n",
      "Last:  7\n"
     ]
    }
   ],
   "source": [
    "#Making the Function \"number\"\n",
    "def unpack(number):\n",
    "  \n",
    "   #indexing the first number\n",
    "   first = number[0]\n",
    "   # indexing the middle number\n",
    "   Middle = number[1:-2]\n",
    "   #indexing the last number\n",
    "   last = number[-1]\n",
    "   #returning the Value\n",
    "   return print(\"First: \", first, \"\\nMiddle: \",Middle, \"\\nLast: \", last) \n",
    "#making the list to be tested\n",
    "number = [1,2,3,4,5,6,7]\n",
    "#calling the function\n",
    "unpack(number)"
   ]
  }
 ],
 "metadata": {
  "kernelspec": {
   "display_name": "Python 3 (ipykernel)",
   "language": "python",
   "name": "python3"
  },
  "language_info": {
   "codemirror_mode": {
    "name": "ipython",
    "version": 3
   },
   "file_extension": ".py",
   "mimetype": "text/x-python",
   "name": "python",
   "nbconvert_exporter": "python",
   "pygments_lexer": "ipython3",
   "version": "3.12.4"
  }
 },
 "nbformat": 4,
 "nbformat_minor": 5
}
